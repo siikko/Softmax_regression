{
  "nbformat": 4,
  "nbformat_minor": 0,
  "metadata": {
    "colab": {
      "provenance": []
    },
    "kernelspec": {
      "name": "python3",
      "display_name": "Python 3"
    },
    "language_info": {
      "name": "python"
    }
  },
  "cells": [
    {
      "cell_type": "markdown",
      "source": [
        "**Softmax Regression**"
      ],
      "metadata": {
        "id": "u3Slm4YT-MIA"
      }
    },
    {
      "cell_type": "markdown",
      "source": [
        "**Model code**"
      ],
      "metadata": {
        "id": "LBkXCmKqFVTx"
      }
    },
    {
      "cell_type": "code",
      "source": [
        "class SoftmaxRegression(nn.Module):\n",
        "    def __init__(self):\n",
        "        super().__init__()\n",
        "        self.linear  = nn.Linear(4, 3)\n",
        "    def forward(self, x):\n",
        "        return self.linear(x)"
      ],
      "metadata": {
        "id": "SQYWKI9b9_kc"
      },
      "execution_count": null,
      "outputs": []
    },
    {
      "cell_type": "markdown",
      "source": [
        "**Training**"
      ],
      "metadata": {
        "id": "sCNIldjdF4uE"
      }
    },
    {
      "cell_type": "code",
      "source": [
        "x_train = torch.FloatTensor([[6.3, 3.3, 6.0, 2.5],\n",
        "                             [5.8, 2.7, 5.1, 1.9],\n",
        "                             [7.1, 3.0, 5.9, 2.1],\n",
        "                             [5.1, 3.5, 1.4, 0.2],\n",
        "                             [4.9, 3.0, 1.4, 0.2],\n",
        "                             [4.7, 3.2, 1.3, 0.2],\n",
        "                             [7.0, 3.2, 4.7, 1.4],\n",
        "                             [6.4, 3.2, 4.5, 1.5],\n",
        "                             [6.9, 3.1, 4.9, 1.5]])\n",
        "\n",
        "y_train = torch.LongTensor([0,0,0,1,1,1,2,2,2])\n",
        "\n",
        "\n",
        "model = SoftmaxRegression()\n",
        "\n",
        "optimizer = torch.optim.SGD(model.parameters(), lr=1e-1)\n",
        "nb_epochs = 1000\n",
        "for epoch in range(nb_epochs+1):\n",
        "\n",
        "    prediction = model(x_train)\n",
        "    cost = F.cross_entropy(prediction, y_train)\n",
        "\n",
        "    optimizer.zero_grad()\n",
        "    cost.backward()\n",
        "    optimizer.step()\n",
        "\n",
        "    if epoch % 100 == 0:\n",
        "\n",
        "      correct_prediction = torch.argmax(prediction, 1) == y_train\n",
        "      accuracy = correct_prediction.float().mean().item()\n",
        "      print('Epoch {:4d}/{} Cost: {:.6f} Accuracy: {:2.2f}%'.format(\n",
        "          epoch, nb_epochs, cost.item(), accuracy*100\n",
        "      ))"
      ],
      "metadata": {
        "id": "bi6I4v9oF6wF",
        "colab": {
          "base_uri": "https://localhost:8080/"
        },
        "outputId": "db18f17c-0a79-4f58-ab19-4a2e513476d3"
      },
      "execution_count": null,
      "outputs": [
        {
          "output_type": "stream",
          "name": "stdout",
          "text": [
            "Epoch    0/1000 Cost: 1.348675 Accuracy: 33.33%\n",
            "Epoch  100/1000 Cost: 0.252970 Accuracy: 100.00%\n",
            "Epoch  200/1000 Cost: 0.148312 Accuracy: 100.00%\n",
            "Epoch  300/1000 Cost: 0.109800 Accuracy: 100.00%\n",
            "Epoch  400/1000 Cost: 0.087248 Accuracy: 100.00%\n",
            "Epoch  500/1000 Cost: 0.072407 Accuracy: 100.00%\n",
            "Epoch  600/1000 Cost: 0.061892 Accuracy: 100.00%\n",
            "Epoch  700/1000 Cost: 0.054049 Accuracy: 100.00%\n",
            "Epoch  800/1000 Cost: 0.047974 Accuracy: 100.00%\n",
            "Epoch  900/1000 Cost: 0.043129 Accuracy: 100.00%\n",
            "Epoch 1000/1000 Cost: 0.039175 Accuracy: 100.00%\n"
          ]
        }
      ]
    },
    {
      "cell_type": "markdown",
      "source": [
        "**Testing**"
      ],
      "metadata": {
        "id": "WIqH6VOdH-d0"
      }
    },
    {
      "cell_type": "code",
      "source": [
        "test_data = torch.FloatTensor([[6.3, 2.9, 5.6, 1.8],\n",
        "                               [6.5, 3.0, 5.8, 2.2],\n",
        "                               [4.6, 3.1, 1.5, 0.2],\n",
        "                               [5.0, 3.6, 1.4, 0.2],\n",
        "                               [5.5, 2.3, 4.0, 1.3],\n",
        "                               [6.5, 2.8, 4.6, 1.5]])\n",
        "# Class 0, 1, 2 두개씩 포함하고 있는 테스트 데이터셋\n",
        "prediction = F.softmax( model(test_data), dim = 1  )\n",
        "\n",
        "print (prediction)"
      ],
      "metadata": {
        "id": "XHwJJocUHlJS",
        "colab": {
          "base_uri": "https://localhost:8080/"
        },
        "outputId": "48867f6a-c5db-480c-b634-f025ecb30429"
      },
      "execution_count": null,
      "outputs": [
        {
          "output_type": "stream",
          "name": "stdout",
          "text": [
            "tensor([[9.4463e-01, 2.4999e-05, 5.5345e-02],\n",
            "        [9.8244e-01, 5.3047e-06, 1.7551e-02],\n",
            "        [1.1995e-07, 9.7550e-01, 2.4497e-02],\n",
            "        [3.1149e-09, 9.9333e-01, 6.6651e-03],\n",
            "        [2.4387e-01, 6.5959e-03, 7.4953e-01],\n",
            "        [1.1238e-01, 4.5474e-03, 8.8307e-01]], grad_fn=<SoftmaxBackward0>)\n"
          ]
        }
      ]
    },
    {
      "cell_type": "markdown",
      "source": [
        "**Softmax Regression for MNIST dataset**"
      ],
      "metadata": {
        "id": "QI66G2c1TOBN"
      }
    },
    {
      "cell_type": "markdown",
      "source": [
        "**Model code**"
      ],
      "metadata": {
        "id": "eC7--fTxTh3_"
      }
    },
    {
      "cell_type": "code",
      "source": [
        "class MNIST_SoftmaxRegression(nn.Module):\n",
        "    def __init__(self):\n",
        "        super().__init__()\n",
        "        self.linear = nn.Linear(784, 10)\n",
        "    def forward(self, x):\n",
        "        return self.linear(x)"
      ],
      "metadata": {
        "id": "SVTud7WxIy8L"
      },
      "execution_count": null,
      "outputs": []
    },
    {
      "cell_type": "markdown",
      "source": [
        "**Training**"
      ],
      "metadata": {
        "id": "9mCj3k42TlzV"
      }
    },
    {
      "cell_type": "code",
      "source": [
        "import torchvision.datasets as dsets\n",
        "import torchvision.transforms as transforms\n",
        "from torch.utils.data import DataLoader\n",
        "import matplotlib.pyplot as plt\n",
        "import random\n",
        "\n",
        "# hyperparameters\n",
        "\n",
        "training_epochs = 15\n",
        "batch_size = 100\n",
        "# MNIST dataset\n",
        "mnist_train = dsets.MNIST(root='MNIST_data/',\n",
        "                          train=True,\n",
        "                          transform=transforms.ToTensor(),\n",
        "                          download=True)\n",
        "\n",
        "mnist_test = dsets.MNIST(root='MNIST_data/',\n",
        "                         train=False,\n",
        "                         transform=transforms.ToTensor(),\n",
        "                         download=True)\n",
        "\n",
        "#첫 다운로드 오류는 무시해도 됨 -> 데이터를 다운로드하는 도중 원래 제공하던 사이트에서 403 에러로 인해 다운로드에 실패했지만, 대체 URL로 Amazon S3에서 다운로드\n",
        "\n",
        "# dataset loader\n",
        "\n",
        "data_loader  = DataLoader(dataset=mnist_train,\n",
        "                          batch_size=batch_size,\n",
        "                          shuffle=True)\n",
        "\n",
        "model = MNIST_SoftmaxRegression()\n",
        "criterion = nn.CrossEntropyLoss()\n",
        "optimizer = torch.optim.SGD(model.parameters(), lr=0.1)\n",
        "\n",
        "for epoch in range(training_epochs): # 앞서 training_epochs의 값은 15로 지정함.\n",
        "    avg_cost = 0\n",
        "    total_batch = len(data_loader)\n",
        "\n",
        "    for idx, (x_train, y_train) in enumerate(data_loader):\n",
        "\n",
        "        x_train  = x_train.view(-1, 28*28 )\n",
        "\n",
        "        prediction = model(x_train)\n",
        "        cost = criterion(prediction, y_train)\n",
        "\n",
        "        optimizer.zero_grad()\n",
        "        cost.backward()\n",
        "        optimizer.step()\n",
        "\n",
        "        avg_cost += cost / total_batch\n",
        "\n",
        "    print('Epoch:', '%04d' % (epoch + 1), 'cost =', '{:.9f}'.format(avg_cost))\n",
        "\n",
        "print('Learning finished')"
      ],
      "metadata": {
        "id": "v8gwu0EETlPh",
        "colab": {
          "base_uri": "https://localhost:8080/"
        },
        "outputId": "bd4d3b44-4b67-462e-9626-17397f642409"
      },
      "execution_count": null,
      "outputs": [
        {
          "output_type": "stream",
          "name": "stdout",
          "text": [
            "Downloading http://yann.lecun.com/exdb/mnist/train-images-idx3-ubyte.gz\n",
            "Failed to download (trying next):\n",
            "HTTP Error 403: Forbidden\n",
            "\n",
            "Downloading https://ossci-datasets.s3.amazonaws.com/mnist/train-images-idx3-ubyte.gz\n",
            "Downloading https://ossci-datasets.s3.amazonaws.com/mnist/train-images-idx3-ubyte.gz to MNIST_data/MNIST/raw/train-images-idx3-ubyte.gz\n"
          ]
        },
        {
          "output_type": "stream",
          "name": "stderr",
          "text": [
            "100%|██████████| 9912422/9912422 [00:00<00:00, 33516690.13it/s]\n"
          ]
        },
        {
          "output_type": "stream",
          "name": "stdout",
          "text": [
            "Extracting MNIST_data/MNIST/raw/train-images-idx3-ubyte.gz to MNIST_data/MNIST/raw\n",
            "\n",
            "Downloading http://yann.lecun.com/exdb/mnist/train-labels-idx1-ubyte.gz\n",
            "Failed to download (trying next):\n",
            "HTTP Error 403: Forbidden\n",
            "\n",
            "Downloading https://ossci-datasets.s3.amazonaws.com/mnist/train-labels-idx1-ubyte.gz\n",
            "Downloading https://ossci-datasets.s3.amazonaws.com/mnist/train-labels-idx1-ubyte.gz to MNIST_data/MNIST/raw/train-labels-idx1-ubyte.gz\n"
          ]
        },
        {
          "output_type": "stream",
          "name": "stderr",
          "text": [
            "100%|██████████| 28881/28881 [00:00<00:00, 1089977.09it/s]\n"
          ]
        },
        {
          "output_type": "stream",
          "name": "stdout",
          "text": [
            "Extracting MNIST_data/MNIST/raw/train-labels-idx1-ubyte.gz to MNIST_data/MNIST/raw\n",
            "\n",
            "Downloading http://yann.lecun.com/exdb/mnist/t10k-images-idx3-ubyte.gz\n",
            "Failed to download (trying next):\n",
            "HTTP Error 403: Forbidden\n",
            "\n",
            "Downloading https://ossci-datasets.s3.amazonaws.com/mnist/t10k-images-idx3-ubyte.gz\n",
            "Downloading https://ossci-datasets.s3.amazonaws.com/mnist/t10k-images-idx3-ubyte.gz to MNIST_data/MNIST/raw/t10k-images-idx3-ubyte.gz\n"
          ]
        },
        {
          "output_type": "stream",
          "name": "stderr",
          "text": [
            "100%|██████████| 1648877/1648877 [00:00<00:00, 8929180.51it/s]\n"
          ]
        },
        {
          "output_type": "stream",
          "name": "stdout",
          "text": [
            "Extracting MNIST_data/MNIST/raw/t10k-images-idx3-ubyte.gz to MNIST_data/MNIST/raw\n",
            "\n",
            "Downloading http://yann.lecun.com/exdb/mnist/t10k-labels-idx1-ubyte.gz\n",
            "Failed to download (trying next):\n",
            "HTTP Error 403: Forbidden\n",
            "\n",
            "Downloading https://ossci-datasets.s3.amazonaws.com/mnist/t10k-labels-idx1-ubyte.gz\n",
            "Downloading https://ossci-datasets.s3.amazonaws.com/mnist/t10k-labels-idx1-ubyte.gz to MNIST_data/MNIST/raw/t10k-labels-idx1-ubyte.gz\n"
          ]
        },
        {
          "output_type": "stream",
          "name": "stderr",
          "text": [
            "100%|██████████| 4542/4542 [00:00<00:00, 2420344.15it/s]\n"
          ]
        },
        {
          "output_type": "stream",
          "name": "stdout",
          "text": [
            "Extracting MNIST_data/MNIST/raw/t10k-labels-idx1-ubyte.gz to MNIST_data/MNIST/raw\n",
            "\n",
            "Epoch: 0001 cost = 0.533756435\n",
            "Epoch: 0002 cost = 0.359071314\n",
            "Epoch: 0003 cost = 0.330853909\n",
            "Epoch: 0004 cost = 0.316269368\n",
            "Epoch: 0005 cost = 0.306897253\n",
            "Epoch: 0006 cost = 0.299754918\n",
            "Epoch: 0007 cost = 0.295043975\n",
            "Epoch: 0008 cost = 0.290703654\n",
            "Epoch: 0009 cost = 0.287395447\n",
            "Epoch: 0010 cost = 0.284370959\n",
            "Epoch: 0011 cost = 0.281917304\n",
            "Epoch: 0012 cost = 0.279720277\n",
            "Epoch: 0013 cost = 0.277781814\n",
            "Epoch: 0014 cost = 0.275830269\n",
            "Epoch: 0015 cost = 0.274402380\n",
            "Learning finished\n"
          ]
        }
      ]
    },
    {
      "cell_type": "code",
      "source": [
        "# 테스트 데이터를 사용하여 모델을 테스트한다.\n",
        "with torch.no_grad(): # torch.no_grad()를 하면 gradient 계산을 수행하지 않는다.\n",
        "\n",
        "    x_test = mnist_test.data.view(-1, 28*28).float()\n",
        "    y_test = mnist_test.targets\n",
        "\n",
        "    prediction = model(x_test)\n",
        "\n",
        "    correct_prediction = torch.argmax(prediction, 1) == y_test\n",
        "    accuracy = correct_prediction.float().mean()\n",
        "    print('Accuracy:', accuracy.item())"
      ],
      "metadata": {
        "id": "v4LBfnc7VzKP",
        "colab": {
          "base_uri": "https://localhost:8080/"
        },
        "outputId": "b3308380-4d49-4a89-acf6-f1d87dcbf8cc"
      },
      "execution_count": null,
      "outputs": [
        {
          "output_type": "stream",
          "name": "stdout",
          "text": [
            "Accuracy: 0.8838000297546387\n"
          ]
        }
      ]
    },
    {
      "cell_type": "code",
      "source": [
        "with torch.no_grad():\n",
        "    # MNIST 테스트 데이터에서 무작위로 하나를 뽑아서 예측을 해본다\n",
        "    r = random.randint(0, len(mnist_test) - 1)\n",
        "    x_single_data = mnist_test.data[r:r + 1].view(-1, 28 * 28).float()\n",
        "    y_single_data = mnist_test.targets[r:r + 1]\n",
        "\n",
        "    print('Label: ', y_single_data.item())\n",
        "    single_prediction = model(x_single_data)\n",
        "    print('Prediction: ', torch.argmax(single_prediction, 1).item())\n",
        "\n",
        "    plt.imshow(mnist_test.data[r:r + 1].view(28, 28), cmap='Greys', interpolation='nearest')\n",
        "    plt.show()"
      ],
      "metadata": {
        "id": "oA5HUNCHXaPC",
        "colab": {
          "base_uri": "https://localhost:8080/",
          "height": 467
        },
        "outputId": "b90fe407-6fab-4be2-f017-603171e01362"
      },
      "execution_count": null,
      "outputs": [
        {
          "output_type": "stream",
          "name": "stdout",
          "text": [
            "Label:  6\n",
            "Prediction:  6\n"
          ]
        },
        {
          "output_type": "display_data",
          "data": {
            "text/plain": [
              "<Figure size 640x480 with 1 Axes>"
            ],
            "image/png": "[encoded data removed]"
          },
          "metadata": {}
        }
      ]
    },
    {
      "cell_type": "code",
      "source": [],
      "metadata": {
        "id": "Y6kffqNsXrFg"
      },
      "execution_count": null,
      "outputs": []
    }
  ]
}